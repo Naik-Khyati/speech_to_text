{
  "nbformat": 4,
  "nbformat_minor": 0,
  "metadata": {
    "colab": {
      "provenance": []
    },
    "kernelspec": {
      "name": "python3",
      "display_name": "Python 3"
    },
    "language_info": {
      "name": "python"
    }
  },
  "cells": [
    {
      "cell_type": "code",
      "source": [
        "# pre req: please download the datasset from kaggle and upload to google drive to run this code.\n",
        "# data can be downloaded from:\n",
        "# https://www.kaggle.com/c/instacart-market-basket-analysis/data\n",
        "\n",
        "from google.colab import drive\n",
        "drive.mount('/content/drive/')"
      ],
      "metadata": {
        "colab": {
          "base_uri": "https://localhost:8080/"
        },
        "id": "viBCcUtoDqMh",
        "outputId": "297933eb-e94f-4533-a3fd-74eda861a402"
      },
      "execution_count": null,
      "outputs": [
        {
          "output_type": "stream",
          "name": "stdout",
          "text": [
            "Mounted at /content/drive/\n"
          ]
        }
      ]
    },
    {
      "cell_type": "code",
      "source": [
        "%cd /content/drive/MyDrive/s2t/"
      ],
      "metadata": {
        "colab": {
          "base_uri": "https://localhost:8080/"
        },
        "id": "vXykqiIvECPg",
        "outputId": "848b7d53-9e8c-4154-aadf-f22ae76af421"
      },
      "execution_count": null,
      "outputs": [
        {
          "output_type": "stream",
          "name": "stdout",
          "text": [
            "/content/drive/MyDrive/s2t\n"
          ]
        }
      ]
    },
    {
      "cell_type": "code",
      "source": [
        "import speech_recognition as sr\n",
        "from nltk.corpus import stopwords\n",
        "from nltk.tokenize import word_tokenize\n",
        "from nltk.stem import WordNetLemmatizer\n",
        "import nltk\n",
        "\n",
        "filename = 'harvard.wav'  # Path to the \"harvard.wav\" file\n",
        "\n",
        "r = sr.Recognizer()\n",
        "\n",
        "# Download NLTK resources (run once)\n",
        "nltk.download('punkt')\n",
        "nltk.download('stopwords')\n",
        "nltk.download('wordnet')\n",
        "\n",
        "# Define a function for text preprocessing\n",
        "def preprocess_text(text):\n",
        "    # Tokenization\n",
        "    tokens = word_tokenize(text)\n",
        "    \n",
        "    # Convert to lowercase\n",
        "    tokens = [token.lower() for token in tokens]\n",
        "    \n",
        "    # Remove stopwords\n",
        "    stop_words = set(stopwords.words('english'))\n",
        "    tokens = [token for token in tokens if token not in stop_words]\n",
        "    \n",
        "    # Lemmatization\n",
        "    lemmatizer = WordNetLemmatizer()\n",
        "    tokens = [lemmatizer.lemmatize(token) for token in tokens]\n",
        "    \n",
        "    # Join tokens back into a single string\n",
        "    preprocessed_text = ' '.join(tokens)\n",
        "    \n",
        "    return preprocessed_text\n",
        "\n",
        "# Open the audio file and convert speech to text\n",
        "with sr.AudioFile(filename) as source:\n",
        "    audio_data = r.record(source)\n",
        "    text = r.recognize_google(audio_data)\n",
        "\n",
        "# Perform text preprocessing\n",
        "preprocessed_text = preprocess_text(text)\n",
        "\n",
        "# Print original and preprocessed text\n",
        "print(\"Original Text:\", text)\n",
        "print(\"Preprocessed Text:\", preprocessed_text)\n"
      ],
      "metadata": {
        "colab": {
          "base_uri": "https://localhost:8080/"
        },
        "id": "B8WdrLbnG9v9",
        "outputId": "4a262d3c-0472-4e7e-a784-2388b38cddd5"
      },
      "execution_count": null,
      "outputs": [
        {
          "output_type": "stream",
          "name": "stderr",
          "text": [
            "[nltk_data] Downloading package punkt to /root/nltk_data...\n",
            "[nltk_data]   Package punkt is already up-to-date!\n",
            "[nltk_data] Downloading package stopwords to /root/nltk_data...\n",
            "[nltk_data]   Package stopwords is already up-to-date!\n",
            "[nltk_data] Downloading package wordnet to /root/nltk_data...\n",
            "[nltk_data]   Package wordnet is already up-to-date!\n"
          ]
        },
        {
          "output_type": "stream",
          "name": "stdout",
          "text": [
            "Original Text: the stale smell of old beer lingers it takes heat to bring out the odor a cold dip restores health and zest a salt pickle taste fine with ham tacos al Pastore are my favorite acceptable food is be hot cross bun\n",
            "Preprocessed Text: stale smell old beer lingers take heat bring odor cold dip restores health zest salt pickle taste fine ham taco al pastore favorite acceptable food hot cross bun\n"
          ]
        }
      ]
    },
    {
      "cell_type": "code",
      "source": [
        "from textblob import TextBlob\n",
        "\n",
        "# Perform sentiment analysis using TextBlob\n",
        "blob = TextBlob(preprocessed_text)\n",
        "sentiment = blob.sentiment\n",
        "\n",
        "# Print sentiment polarity and subjectivity\n",
        "print(f\"Sentiment Polarity: {sentiment.polarity}\")\n",
        "print(f\"Sentiment Subjectivity: {sentiment.subjectivity}\")\n",
        "\n",
        "# Classify sentiment into positive, negative, or neutral\n",
        "if sentiment.polarity > 0:\n",
        "    print(\"Sentiment: Positive\")\n",
        "elif sentiment.polarity < 0:\n",
        "    print(\"Sentiment: Negative\")\n",
        "else:\n",
        "    print(\"Sentiment: Neutral\")\n"
      ],
      "metadata": {
        "colab": {
          "base_uri": "https://localhost:8080/"
        },
        "id": "WReW6Mk_JrMK",
        "outputId": "560f603e-03d3-4cd0-a572-d8220955d1fb"
      },
      "execution_count": null,
      "outputs": [
        {
          "output_type": "stream",
          "name": "stdout",
          "text": [
            "Sentiment Polarity: 0.02380952380952382\n",
            "Sentiment Subjectivity: 0.5785714285714286\n",
            "Sentiment: Positive\n"
          ]
        }
      ]
    }
  ]
}